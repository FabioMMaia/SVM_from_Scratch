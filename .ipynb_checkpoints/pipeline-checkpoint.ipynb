{
 "cells": [
  {
   "cell_type": "code",
   "execution_count": 1,
   "id": "abb53eb2",
   "metadata": {},
   "outputs": [],
   "source": [
    "import pandas as pd\n",
    "import numpy as np\n",
    "from sklearn.model_selection import train_test_split"
   ]
  },
  {
   "cell_type": "code",
   "execution_count": 2,
   "id": "f336a4e7",
   "metadata": {},
   "outputs": [],
   "source": [
    "from modules import SVM"
   ]
  },
  {
   "cell_type": "code",
   "execution_count": 3,
   "id": "f9d3eece",
   "metadata": {},
   "outputs": [],
   "source": [
    "from importlib import reload"
   ]
  },
  {
   "cell_type": "code",
   "execution_count": 4,
   "id": "76be50c9",
   "metadata": {},
   "outputs": [],
   "source": [
    "# Teste 1 - Breast Cancer"
   ]
  },
  {
   "cell_type": "code",
   "execution_count": 5,
   "id": "a2474c13",
   "metadata": {},
   "outputs": [],
   "source": [
    "from sklearn.datasets import load_breast_cancer\n",
    "\n",
    "cancer = load_breast_cancer()\n",
    "X = pd.DataFrame(cancer.data, columns= cancer.feature_names)\n",
    "y = pd.DataFrame(cancer.target, columns= ['target'])\n",
    "y['target'] = y['target'].apply(lambda x:2*x-1)\n",
    "m = X.shape[0]\n",
    "\n",
    "X_train, X_test, y_train, y_test = train_test_split(X, y, test_size=0.2, random_state=42)\n",
    "\n",
    "X_test = (X_test - X_train.min(axis=0))/(X_train.max(axis=0) - X_train.min(axis=0))\n",
    "X_train = (X_train - X_train.min(axis=0))/(X_train.max(axis=0) - X_train.min(axis=0))"
   ]
  },
  {
   "cell_type": "code",
   "execution_count": 6,
   "id": "97a27cc1",
   "metadata": {},
   "outputs": [],
   "source": [
    "classifier = SVM.SVM(C=100, kernel_type= 'rbf', kernel_params={'sigma':0.1})\n",
    "classifier.fit(X_train,y_train)\n",
    "\n",
    "ypred_train = classifier.predict(X_train)\n",
    "ypred_test = classifier.predict(X_test)\n"
   ]
  },
  {
   "cell_type": "code",
   "execution_count": 7,
   "id": "4d69848b",
   "metadata": {},
   "outputs": [
    {
     "name": "stdout",
     "output_type": "stream",
     "text": [
      "acuracia treino:1.0000 acuracia teste:0.9561\n"
     ]
    }
   ],
   "source": [
    "print(\n",
    "    'acuracia treino:{:.4f} acuracia teste:{:.4f}'.format(\n",
    "    np.mean(ypred_train.flatten()==y_train.values.flatten()),\n",
    "    np.mean(ypred_test.flatten()==y_test.values.flatten())\n",
    "    )\n",
    "    )"
   ]
  },
  {
   "cell_type": "code",
   "execution_count": 8,
   "id": "a6096b29",
   "metadata": {},
   "outputs": [],
   "source": [
    "# Teste 2 - Iris"
   ]
  },
  {
   "cell_type": "code",
   "execution_count": 77,
   "id": "cf8c8b11",
   "metadata": {},
   "outputs": [],
   "source": [
    "from modules import SVM_multiclass\n",
    "from sklearn.datasets import load_iris"
   ]
  },
  {
   "cell_type": "code",
   "execution_count": 78,
   "id": "cc074fb7",
   "metadata": {},
   "outputs": [
    {
     "data": {
      "text/plain": [
       "<module 'modules.SVM' from 'C:\\\\Users\\\\fabio\\\\OneDrive\\\\Área de Trabalho\\\\Mestrado\\\\assignment\\\\svm\\\\SVM_from_Scratch\\\\modules\\\\SVM.py'>"
      ]
     },
     "execution_count": 78,
     "metadata": {},
     "output_type": "execute_result"
    }
   ],
   "source": [
    "reload(SVM_multiclass)\n",
    "reload(SVM)"
   ]
  },
  {
   "cell_type": "code",
   "execution_count": 79,
   "id": "03c191f0",
   "metadata": {},
   "outputs": [],
   "source": [
    "classifier = SVM_multiclass.SVM_one_vs_all(kernel_grid={'C':[1,100,1000,10000,100000],\n",
    "                                                       'sigma':[.001,.01, .1, 1, 10, 100]}, verbose=True)"
   ]
  },
  {
   "cell_type": "code",
   "execution_count": 80,
   "id": "dfdbd62b",
   "metadata": {},
   "outputs": [],
   "source": [
    "data = load_iris()\n",
    "\n",
    "X = data['data']\n",
    "y = data['target']\n",
    "\n",
    "X = pd.DataFrame(X, columns=data.feature_names)\n",
    "y = pd.DataFrame(y, columns=['target'])\n",
    "\n",
    "X_train, X_test, y_train, y_test = train_test_split(X, y, test_size=0.2, random_state=42)"
   ]
  },
  {
   "cell_type": "code",
   "execution_count": 81,
   "id": "ebe9580a",
   "metadata": {},
   "outputs": [
    {
     "name": "stdout",
     "output_type": "stream",
     "text": [
      "Iniciando testes dos 30 modelos para a classe 0\n",
      "\n",
      "it:0 | melhor modelo para classe 0 atualizado C:1 sigma:0.001 acc_train:1.0 acc_test:0.0 f1_train:1.0 f1_test:0.0\n",
      "\n",
      "it:5 | melhor modelo para classe 0 atualizado C:1 sigma:0.01 acc_train:1.0 acc_test:0.8333333333333334 f1_train:1.0 f1_test:0.9047619047619048\n",
      "\n",
      "it:10 | melhor modelo para classe 0 atualizado C:1 sigma:0.1 acc_train:1.0 acc_test:1.0 f1_train:1.0 f1_test:1.0\n",
      "\n",
      "Iniciando testes dos 30 modelos para a classe 1\n",
      "\n",
      "it:0 | melhor modelo para classe 1 atualizado C:1 sigma:0.001 acc_train:1.0 acc_test:0.0 f1_train:1.0 f1_test:0.0\n",
      "\n",
      "it:5 | melhor modelo para classe 1 atualizado C:1 sigma:0.01 acc_train:1.0 acc_test:0.8333333333333334 f1_train:1.0 f1_test:0.9086687306501547\n",
      "\n",
      "it:10 | melhor modelo para classe 1 atualizado C:1 sigma:0.1 acc_train:1.0 acc_test:1.0 f1_train:1.0 f1_test:1.0\n",
      "\n",
      "Iniciando testes dos 30 modelos para a classe 2\n",
      "\n",
      "it:0 | melhor modelo para classe 2 atualizado C:1 sigma:0.001 acc_train:1.0 acc_test:0.0 f1_train:1.0 f1_test:0.0\n",
      "\n",
      "it:5 | melhor modelo para classe 2 atualizado C:1 sigma:0.01 acc_train:1.0 acc_test:0.8333333333333334 f1_train:1.0 f1_test:0.9014014014014013\n",
      "\n",
      "it:10 | melhor modelo para classe 2 atualizado C:1 sigma:0.1 acc_train:1.0 acc_test:1.0 f1_train:1.0 f1_test:1.0\n",
      "\n"
     ]
    }
   ],
   "source": [
    "output = classifier.fit(X_train, X_test, y_train, y_test )"
   ]
  },
  {
   "cell_type": "code",
   "execution_count": 82,
   "id": "28838cc7",
   "metadata": {},
   "outputs": [
    {
     "data": {
      "text/plain": [
       "array([[1],\n",
       "       [0],\n",
       "       [2],\n",
       "       [1],\n",
       "       [1],\n",
       "       [0],\n",
       "       [1],\n",
       "       [2],\n",
       "       [1],\n",
       "       [1],\n",
       "       [2],\n",
       "       [0],\n",
       "       [0],\n",
       "       [0],\n",
       "       [0],\n",
       "       [1],\n",
       "       [2],\n",
       "       [1],\n",
       "       [1],\n",
       "       [2],\n",
       "       [0],\n",
       "       [2],\n",
       "       [0],\n",
       "       [2],\n",
       "       [2],\n",
       "       [2],\n",
       "       [2],\n",
       "       [2],\n",
       "       [0],\n",
       "       [0]])"
      ]
     },
     "execution_count": 82,
     "metadata": {},
     "output_type": "execute_result"
    }
   ],
   "source": [
    "classifier.predict_one_vs_all(X_test)"
   ]
  },
  {
   "cell_type": "code",
   "execution_count": 83,
   "id": "7e852008",
   "metadata": {},
   "outputs": [
    {
     "data": {
      "text/plain": [
       "1.0"
      ]
     },
     "execution_count": 83,
     "metadata": {},
     "output_type": "execute_result"
    }
   ],
   "source": [
    "(y_test.values == classifier.predict_one_vs_all(X_test)).mean()"
   ]
  },
  {
   "cell_type": "code",
   "execution_count": 84,
   "id": "e44e960f",
   "metadata": {},
   "outputs": [],
   "source": [
    "# Teste 3 - fetch_olivetti_faces\n",
    "\n",
    "from sklearn.datasets import fetch_olivetti_faces\n",
    "dataset = fetch_olivetti_faces()\n",
    "\n",
    "X = dataset.images\n",
    "y = dataset.target\n",
    "m = X.shape[0]"
   ]
  },
  {
   "cell_type": "code",
   "execution_count": 85,
   "id": "31ed771e",
   "metadata": {},
   "outputs": [],
   "source": [
    "from tqdm import tqdm\n",
    "from skimage.feature import hog,local_binary_pattern\n",
    "\n",
    "def featurize_images(X, lbp_METHOD = 'uniform',lbp_radius = 1,lbp_n_points = 4):\n",
    "\n",
    "  m = X.shape[0]\n",
    "\n",
    "  X_out = []\n",
    "\n",
    "  for i in tqdm(range(0,m)):\n",
    "    image = X[i]\n",
    "\n",
    "    # HOG\n",
    "    image_HOG,_ = hog(image, orientations=2, pixels_per_cell=(4,4),cells_per_block=(4, 4), visualize=True)\n",
    "\n",
    "    # LOB\n",
    "    image_lbp = local_binary_pattern(image, lbp_n_points, lbp_radius, lbp_METHOD)\n",
    "\n",
    "    # Feature\n",
    "    vectorized_space = np.r_[image_HOG.flatten(),image_lbp.flatten()]\n",
    "\n",
    "    X_out.append(vectorized_space)\n",
    "\n",
    "  X_out = np.array(X_out)\n",
    "\n",
    "  return X_out\n",
    "\n"
   ]
  },
  {
   "cell_type": "code",
   "execution_count": 86,
   "id": "70a579d6",
   "metadata": {},
   "outputs": [
    {
     "name": "stderr",
     "output_type": "stream",
     "text": [
      "100%|██████████| 400/400 [00:05<00:00, 78.12it/s]\n"
     ]
    }
   ],
   "source": [
    "X_features = featurize_images(X)"
   ]
  },
  {
   "cell_type": "code",
   "execution_count": 87,
   "id": "ed1624b5",
   "metadata": {},
   "outputs": [],
   "source": [
    "X_train, X_test, y_train, y_test  = train_test_split(X_features, y, stratify=y, test_size=0.2, random_state=42)"
   ]
  },
  {
   "cell_type": "code",
   "execution_count": 88,
   "id": "2fd5fe59",
   "metadata": {},
   "outputs": [
    {
     "name": "stdout",
     "output_type": "stream",
     "text": [
      "variancia explicada: 0.9221156988193306\n"
     ]
    }
   ],
   "source": [
    "from sklearn.decomposition import PCA\n",
    "\n",
    "X_train_norm = (X_train - X_train.mean(axis=0))/  X_train.std(axis=0)\n",
    "X_test_norm = (X_test - X_train.mean(axis=0))/  X_train.std(axis=0)\n",
    "\n",
    "pca = PCA(n_components=250, random_state=42)\n",
    "pca.fit(X_train_norm)\n",
    "print('variancia explicada:', sum(pca.explained_variance_ratio_))\n",
    "X_train_norm_pca = pca.transform(X_train_norm)\n",
    "X_test_norm_pca = pca.transform(X_test_norm)\n",
    "\n",
    "X_train_final = (X_train_norm_pca - X_train_norm_pca.mean(axis=0))/  X_train_norm_pca.std(axis=0)\n",
    "X_test_final = (X_test_norm_pca - X_train_norm_pca.mean(axis=0))/  X_train_norm_pca.std(axis=0)"
   ]
  },
  {
   "cell_type": "code",
   "execution_count": 89,
   "id": "306c4901",
   "metadata": {},
   "outputs": [],
   "source": [
    "X_train_norm = pd.DataFrame(X_train_norm)\n",
    "X_test_norm = pd.DataFrame(X_test_norm)\n",
    "y_train = pd.DataFrame(y_train)\n",
    "y_test = pd.DataFrame(y_test)"
   ]
  },
  {
   "cell_type": "code",
   "execution_count": 59,
   "id": "ba536da4",
   "metadata": {},
   "outputs": [],
   "source": [
    "classifier = SVM_multiclass.SVM_one_vs_all(kernel_grid={'C':[.001, 0.01, 0.1, 1, 10, 100],\n",
    "                                                       'sigma':[.001, 0.01, 0.1, 1, 10, 100]}, verbose=True)"
   ]
  },
  {
   "cell_type": "code",
   "execution_count": 106,
   "id": "5f067931",
   "metadata": {},
   "outputs": [
    {
     "name": "stdout",
     "output_type": "stream",
     "text": [
      "Iniciando testes dos 30 modelos para a classe 0\n",
      "\n",
      "it:0 | melhor modelo para classe 0 atualizado C:1 sigma:0.001 acc_train:1.0 acc_test:0.0 f1_train:1.0 f1_test:0.0\n",
      "\n",
      "it:20 | melhor modelo para classe 0 atualizado C:1 sigma:10 acc_train:1.0 acc_test:1.0 f1_train:1.0 f1_test:1.0\n",
      "\n",
      "Iniciando testes dos 30 modelos para a classe 1\n",
      "\n",
      "it:0 | melhor modelo para classe 1 atualizado C:1 sigma:0.001 acc_train:1.0 acc_test:0.0 f1_train:1.0 f1_test:0.0\n",
      "\n",
      "it:20 | melhor modelo para classe 1 atualizado C:1 sigma:10 acc_train:1.0 acc_test:1.0 f1_train:1.0 f1_test:1.0\n",
      "\n",
      "Iniciando testes dos 30 modelos para a classe 2\n",
      "\n",
      "it:0 | melhor modelo para classe 2 atualizado C:1 sigma:0.001 acc_train:1.0 acc_test:0.0 f1_train:1.0 f1_test:0.0\n",
      "\n",
      "it:20 | melhor modelo para classe 2 atualizado C:1 sigma:10 acc_train:1.0 acc_test:1.0 f1_train:1.0 f1_test:1.0\n",
      "\n",
      "Iniciando testes dos 30 modelos para a classe 3\n",
      "\n",
      "it:0 | melhor modelo para classe 3 atualizado C:1 sigma:0.001 acc_train:1.0 acc_test:0.0 f1_train:1.0 f1_test:0.0\n",
      "\n",
      "it:20 | melhor modelo para classe 3 atualizado C:1 sigma:10 acc_train:1.0 acc_test:1.0 f1_train:1.0 f1_test:1.0\n",
      "\n"
     ]
    }
   ],
   "source": [
    "output = classifier.fit(X_train_norm[y_train[0]<4], X_test_norm[y_test[0]<4], y_train[y_train[0]<4], y_test[y_test[0]<4])"
   ]
  },
  {
   "cell_type": "code",
   "execution_count": 91,
   "id": "279acb84",
   "metadata": {},
   "outputs": [],
   "source": [
    "# output = classifier.fit(X_train_final, X_test_final, y_train, y_test)"
   ]
  },
  {
   "cell_type": "code",
   "execution_count": 107,
   "id": "25100a24",
   "metadata": {},
   "outputs": [
    {
     "data": {
      "text/plain": [
       "{0: {'model': <modules.SVM.SVM at 0x20f9bbc91c8>,\n",
       "  'acc_train': 1.0,\n",
       "  'acc_test': 1.0,\n",
       "  'f1_train': 1.0,\n",
       "  'f1_test': 1.0},\n",
       " 1: {'model': <modules.SVM.SVM at 0x20f9bbbddc8>,\n",
       "  'acc_train': 1.0,\n",
       "  'acc_test': 1.0,\n",
       "  'f1_train': 1.0,\n",
       "  'f1_test': 1.0},\n",
       " 2: {'model': <modules.SVM.SVM at 0x20f9bbc9848>,\n",
       "  'acc_train': 1.0,\n",
       "  'acc_test': 1.0,\n",
       "  'f1_train': 1.0,\n",
       "  'f1_test': 1.0},\n",
       " 3: {'model': <modules.SVM.SVM at 0x20f9bc9d488>,\n",
       "  'acc_train': 1.0,\n",
       "  'acc_test': 1.0,\n",
       "  'f1_train': 1.0,\n",
       "  'f1_test': 1.0}}"
      ]
     },
     "execution_count": 107,
     "metadata": {},
     "output_type": "execute_result"
    }
   ],
   "source": [
    "output"
   ]
  },
  {
   "cell_type": "code",
   "execution_count": 108,
   "id": "1a812d42",
   "metadata": {},
   "outputs": [],
   "source": [
    "preds_test = classifier.predict_one_vs_all(X_test_norm[y_test[0]<4])"
   ]
  },
  {
   "cell_type": "code",
   "execution_count": 114,
   "id": "b212cbd2",
   "metadata": {},
   "outputs": [
    {
     "data": {
      "text/plain": [
       "1.0"
      ]
     },
     "execution_count": 114,
     "metadata": {},
     "output_type": "execute_result"
    }
   ],
   "source": [
    "np.mean(preds_test.flatten() == y_test[y_test[0]<4].values.flatten())"
   ]
  },
  {
   "cell_type": "code",
   "execution_count": 115,
   "id": "2b331d6e",
   "metadata": {},
   "outputs": [
    {
     "data": {
      "text/plain": [
       "array([1, 3, 0, 2, 2, 3, 1, 0])"
      ]
     },
     "execution_count": 115,
     "metadata": {},
     "output_type": "execute_result"
    }
   ],
   "source": [
    "preds_test.flatten()"
   ]
  },
  {
   "cell_type": "code",
   "execution_count": 116,
   "id": "2b41dcef",
   "metadata": {},
   "outputs": [
    {
     "data": {
      "text/html": [
       "<div>\n",
       "<style scoped>\n",
       "    .dataframe tbody tr th:only-of-type {\n",
       "        vertical-align: middle;\n",
       "    }\n",
       "\n",
       "    .dataframe tbody tr th {\n",
       "        vertical-align: top;\n",
       "    }\n",
       "\n",
       "    .dataframe thead th {\n",
       "        text-align: right;\n",
       "    }\n",
       "</style>\n",
       "<table border=\"1\" class=\"dataframe\">\n",
       "  <thead>\n",
       "    <tr style=\"text-align: right;\">\n",
       "      <th></th>\n",
       "      <th>0</th>\n",
       "    </tr>\n",
       "  </thead>\n",
       "  <tbody>\n",
       "    <tr>\n",
       "      <th>0</th>\n",
       "      <td>1</td>\n",
       "    </tr>\n",
       "    <tr>\n",
       "      <th>8</th>\n",
       "      <td>3</td>\n",
       "    </tr>\n",
       "    <tr>\n",
       "      <th>39</th>\n",
       "      <td>0</td>\n",
       "    </tr>\n",
       "    <tr>\n",
       "      <th>41</th>\n",
       "      <td>2</td>\n",
       "    </tr>\n",
       "    <tr>\n",
       "      <th>43</th>\n",
       "      <td>2</td>\n",
       "    </tr>\n",
       "    <tr>\n",
       "      <th>66</th>\n",
       "      <td>3</td>\n",
       "    </tr>\n",
       "    <tr>\n",
       "      <th>73</th>\n",
       "      <td>1</td>\n",
       "    </tr>\n",
       "    <tr>\n",
       "      <th>75</th>\n",
       "      <td>0</td>\n",
       "    </tr>\n",
       "  </tbody>\n",
       "</table>\n",
       "</div>"
      ],
      "text/plain": [
       "    0\n",
       "0   1\n",
       "8   3\n",
       "39  0\n",
       "41  2\n",
       "43  2\n",
       "66  3\n",
       "73  1\n",
       "75  0"
      ]
     },
     "execution_count": 116,
     "metadata": {},
     "output_type": "execute_result"
    }
   ],
   "source": [
    "y_test[y_test[0]<4]"
   ]
  },
  {
   "cell_type": "code",
   "execution_count": null,
   "id": "8c37e744",
   "metadata": {},
   "outputs": [],
   "source": []
  }
 ],
 "metadata": {
  "kernelspec": {
   "display_name": "Python 3",
   "language": "python",
   "name": "python3"
  },
  "language_info": {
   "codemirror_mode": {
    "name": "ipython",
    "version": 3
   },
   "file_extension": ".py",
   "mimetype": "text/x-python",
   "name": "python",
   "nbconvert_exporter": "python",
   "pygments_lexer": "ipython3",
   "version": "3.7.10"
  },
  "varInspector": {
   "cols": {
    "lenName": 16,
    "lenType": 16,
    "lenVar": 40
   },
   "kernels_config": {
    "python": {
     "delete_cmd_postfix": "",
     "delete_cmd_prefix": "del ",
     "library": "var_list.py",
     "varRefreshCmd": "print(var_dic_list())"
    },
    "r": {
     "delete_cmd_postfix": ") ",
     "delete_cmd_prefix": "rm(",
     "library": "var_list.r",
     "varRefreshCmd": "cat(var_dic_list()) "
    }
   },
   "types_to_exclude": [
    "module",
    "function",
    "builtin_function_or_method",
    "instance",
    "_Feature"
   ],
   "window_display": false
  }
 },
 "nbformat": 4,
 "nbformat_minor": 5
}
