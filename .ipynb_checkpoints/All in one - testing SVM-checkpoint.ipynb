{
 "cells": [
  {
   "cell_type": "code",
   "execution_count": null,
   "metadata": {
    "id": "LjFtq70yJbVY"
   },
   "outputs": [],
   "source": [
    "# !pip install qpsolvers==2.6\n",
    "# from qpsolvers import solve_qp"
   ]
  },
  {
   "cell_type": "code",
   "execution_count": null,
   "metadata": {
    "id": "d1DUsrh2SJZ4"
   },
   "outputs": [],
   "source": [
    "# !pip install quadprog"
   ]
  },
  {
   "cell_type": "code",
   "execution_count": null,
   "metadata": {
    "id": "JyKi-uYsC9oD"
   },
   "outputs": [],
   "source": [
    "import numpy as np\n",
    "import pandas as pd\n",
    "import matplotlib.pyplot as plt\n",
    "import cvxopt\n",
    "import matplotlib"
   ]
  },
  {
   "cell_type": "markdown",
   "metadata": {
    "id": "gdz68eIAKfTq"
   },
   "source": [
    "# SVM Hard Margin: Aplicação no Iris dataset"
   ]
  },
  {
   "cell_type": "code",
   "execution_count": null,
   "metadata": {
    "id": "Iwv97PuialbX"
   },
   "outputs": [],
   "source": [
    "class SVM_hardmargin():\n",
    "\n",
    "  def __init__(self, solver =\"quadprog\", tol=1e-5 ):\n",
    "    self.solver = solver\n",
    "    self.tol = tol\n",
    "\n",
    "  def fit(self,X,y):\n",
    "\n",
    "    # Check https://courses.csail.mit.edu/6.867/wiki/images/a/a7/Qp-cvxopt.pdf\n",
    "\n",
    "    class_labels = np.unique(y)\n",
    "    assert len(class_labels)==2, \"y precisa ser binário\"\n",
    "    assert (isinstance(X,  (np.ndarray, np.generic))) & (isinstance(y, (np.ndarray, np.generic))), \"X e y devem ser do tipo pandas DataFrame\"\n",
    "\n",
    "    # X = np.array(X)\n",
    "    # y = np.array(y)\n",
    "    self.m = X.shape[0]\n",
    "\n",
    "    self.X=X\n",
    "    self.y=y\n",
    "    \n",
    "    # Equação principal\n",
    "    P = np.dot(y*X, (y*X).T)\n",
    "    q = -np.ones((self.m,1)).reshape(-1,1)\n",
    "\n",
    "    # Igualdade\n",
    "    A = y.reshape(1,-1)\n",
    "    b= 0.0\n",
    "\n",
    "    # Inegualidades\n",
    "    G = -np.eye(self.m)\n",
    "    h = np.zeros(self.m).reshape(-1,1)\n",
    "\n",
    "    P       = cvxopt.matrix(P)\n",
    "    q       = cvxopt.matrix(q)\n",
    "    G       = cvxopt.matrix(G)\n",
    "    h       = cvxopt.matrix(h)\n",
    "    A       = cvxopt.matrix(A)\n",
    "    b       = cvxopt.matrix(b)\n",
    "\n",
    "    solved  = cvxopt.solvers.qp(P, q, G, h, A, b) ;\n",
    "    alpha = solved['x']\n",
    "\n",
    "    alpha = np.array(alpha)\n",
    "    sv = (alpha>1e-5).flatten()\n",
    "\n",
    "    w = np.dot((alpha[sv]*y[sv]).reshape(1,-1), X[sv])[0] # w precisar ter dimensao 1 x ne\n",
    "\n",
    "    # w = np.dot((alpha*y).reshape(1,-1), X)[0] # w precisar ter dimensao 1 x ne\n",
    "    wx = np.dot(X[sv], w)\n",
    "\n",
    "    # b = 1/self.m*(np.sum(y[sv] - wx))\n",
    "    b = np.mean(y[sv] - wx)\n",
    "\n",
    "    self.w = w\n",
    "    self.b = b\n",
    "    self.alpha = alpha\n",
    "    self.sv = sv\n",
    "\n",
    "\n",
    "  def predict(self, X_tst):\n",
    "    wx = np.dot(self.w, X_tst.T)\n",
    "    yhat = wx + self.b\n",
    "    yhat = np.sign(yhat)\n",
    "    return yhat\n",
    "\n",
    "\n",
    "# w       = np.dot((y * alphas).T, X)[0]\n",
    "# S       = (alphas > 1e-5).flatten()\n",
    "# b       = np.mean(y[S] - np.dot(X[S], w.reshape(-1, 1)))"
   ]
  },
  {
   "cell_type": "code",
   "execution_count": null,
   "metadata": {
    "colab": {
     "base_uri": "https://localhost:8080/",
     "height": 206
    },
    "id": "zxk1lXGuKimB",
    "outputId": "84f082cf-1e44-456b-b6aa-1aa9224d7667"
   },
   "outputs": [],
   "source": [
    "from sklearn.datasets import load_iris\n",
    "\n",
    "iris = load_iris()\n",
    "iris_df = pd.DataFrame(data= np.c_[iris[\"data\"], iris[\"target\"]], columns= iris[\"feature_names\"] + [\"target\"])\n",
    "\n",
    "# Retain only 2 linearly separable classes\n",
    "iris_df = iris_df[iris_df[\"target\"].isin([0,1])]\n",
    "iris_df[\"target\"] = iris_df[[\"target\"]].replace(0,-1)\n",
    "\n",
    "# Select only 2 attributes\n",
    "iris_df = iris_df[[\"petal length (cm)\", \"petal width (cm)\", \"target\"]]\n",
    "iris_df.head()"
   ]
  },
  {
   "cell_type": "code",
   "execution_count": null,
   "metadata": {
    "colab": {
     "base_uri": "https://localhost:8080/",
     "height": 487
    },
    "id": "0pceOzNyK4WD",
    "outputId": "0c6cce67-7d7e-418f-d0b4-a50d2dd35258"
   },
   "outputs": [],
   "source": [
    "X = iris_df[[\"petal length (cm)\", \"petal width (cm)\"]].to_numpy()\n",
    "y = iris_df[[\"target\"]].to_numpy()\n",
    "\n",
    "plt.figure(figsize=(8, 8))\n",
    "colors = [\"steelblue\", \"orange\"]\n",
    "plt.scatter(X[:, 0], X[:, 1], c=y.ravel(), alpha=0.5, cmap=matplotlib.colors.ListedColormap(colors), edgecolors=\"black\")\n",
    "\n",
    "x_min = min(X[:, 0])\n",
    "x_max = max(X[:, 0])\n",
    "\n",
    "y_min = min(X[:, 1])\n",
    "y_max = max(X[:, 1])\n",
    "\n",
    "plt.xlim(x_min, x_max)\n",
    "plt.ylim(y_min, y_max)\n",
    "plt.show()"
   ]
  },
  {
   "cell_type": "code",
   "execution_count": null,
   "metadata": {
    "colab": {
     "base_uri": "https://localhost:8080/"
    },
    "id": "rNzxtYMPNp_x",
    "outputId": "0e26a3ac-b58a-493a-ba43-75cf0c3f7e92"
   },
   "outputs": [],
   "source": [
    "classifier = SVM_hardmargin()\n",
    "classifier.fit(X,y)\n",
    "print('w:', classifier.w, 'b:', classifier.b)"
   ]
  },
  {
   "cell_type": "code",
   "execution_count": null,
   "metadata": {
    "colab": {
     "base_uri": "https://localhost:8080/",
     "height": 483
    },
    "id": "p4t9t6rtOLbc",
    "outputId": "bf6c30ec-3980-4669-ab46-e49f0ac743f4"
   },
   "outputs": [],
   "source": [
    "def plot_margin(X,classifier, title=None):\n",
    "\n",
    "  w = classifier.w\n",
    "  b = classifier.b\n",
    "\n",
    "  x_min = min(X[:, 0])\n",
    "  x_max = max(X[:, 0])\n",
    "\n",
    "  y_min = min(X[:, 1])\n",
    "  y_max = max(X[:, 1])\n",
    "\n",
    "  xx = np.linspace(x_min, x_max)\n",
    "  a = -w[0]/w[1]\n",
    "  yy = a*xx - (b)/w[1]\n",
    "  margin = 1 / np.sqrt(np.sum(w**2))\n",
    "  yy_neg = yy - np.sqrt(1 + a**2) * margin\n",
    "  yy_pos = yy + np.sqrt(1 + a**2) * margin\n",
    "  plt.figure(figsize=(8, 8))\n",
    "  plt.plot(xx, yy, \"b-\")\n",
    "  plt.plot(xx, yy_neg, \"m--\")\n",
    "  plt.plot(xx, yy_pos, \"m--\")\n",
    "  colors = [\"steelblue\", \"orange\"]\n",
    "  plt.scatter(X[:, 0], X[:, 1], c=y.ravel(), alpha=0.5, cmap=matplotlib.colors.ListedColormap(colors), edgecolors=\"black\")\n",
    "  plt.xlim(x_min, x_max)\n",
    "  plt.ylim(y_min, y_max)\n",
    "  if title is not None:\n",
    "    plt.title(title)\n",
    "  plt.show()\n",
    "\n",
    "plot_margin(X, classifier)"
   ]
  },
  {
   "cell_type": "markdown",
   "metadata": {
    "id": "cyKjkGtfKdqF"
   },
   "source": [
    "# SVM soft margin + aplicação em duas distribuições aleatórias"
   ]
  },
  {
   "cell_type": "code",
   "execution_count": null,
   "metadata": {
    "id": "QyoseqM0M-yU"
   },
   "outputs": [],
   "source": [
    "\n",
    "class SVM():\n",
    "\n",
    "  def __init__(self, C, solver =\"quadprog\", tol=1e-5, verbose=True):\n",
    "    assert C>0, 'C precisa ser uma constante positiva'\n",
    "    self.C=float(C)\n",
    "    self.solver = solver\n",
    "    self.tol = tol\n",
    "    self.verbose=verbose\n",
    "    cvxopt.solvers.options['show_progress'] = verbose\n",
    "\n",
    "  def fit(self,X,y):\n",
    "\n",
    "    # Check https://courses.csail.mit.edu/6.867/wiki/images/a/a7/Qp-cvxopt.pdf\n",
    "\n",
    "    class_labels = np.unique(y)\n",
    "    assert len(class_labels)==2, \"y precisa ser binário\"\n",
    "    #assert (isinstance(X,  (np.ndarray, np.generic))) & (isinstance(y, (np.ndarray, np.generic))), \"X e y devem ser do tipo pandas DataFrame\"\n",
    "\n",
    "    X = np.array(X)\n",
    "    y = np.array(y)\n",
    "    self.m = X.shape[0]\n",
    "\n",
    "    self.X=X\n",
    "    self.y=y\n",
    "    \n",
    "    # Equação principal\n",
    "    P = np.dot(y*X, (y*X).T)\n",
    "    q = -np.ones((self.m,1)).reshape(-1,1)\n",
    "\n",
    "    # Inegualidades\n",
    "    G_lb = -np.eye(self.m)\n",
    "    h_lb = np.zeros(self.m).reshape(-1,1)\n",
    "\n",
    "    G_ub = np.eye(self.m)\n",
    "    h_ub = self.C*np.ones(self.m).reshape(-1,1)\n",
    "\n",
    "    G = np.vstack((G_lb,G_ub))\n",
    "    h = np.vstack((h_lb,h_ub))\n",
    "\n",
    "    # Igualdade\n",
    "    A = y.reshape(1,-1).astype(float)\n",
    "    b= 0.0\n",
    "\n",
    "    P       = cvxopt.matrix(P)\n",
    "    q       = cvxopt.matrix(q)\n",
    "    G       = cvxopt.matrix(G)\n",
    "    h       = cvxopt.matrix(h)\n",
    "    A       = cvxopt.matrix(A)\n",
    "    b       = cvxopt.matrix(b)\n",
    "\n",
    "    solved  = cvxopt.solvers.qp(P, q, G, h, A, b) ;\n",
    "    alpha = solved['x']\n",
    "\n",
    "    alpha = np.array(alpha)\n",
    "    sv = (alpha>1e-5).flatten()\n",
    "    w = np.dot((alpha[sv]*y[sv]).reshape(1,-1), X[sv])[0] # w precisar ter dimensao 1 x ne\n",
    "    wx = np.dot(X[sv], w)\n",
    "    b = np.mean(y[sv] - wx)\n",
    "\n",
    "    self.w = w\n",
    "    self.b = b\n",
    "    self.alpha = alpha\n",
    "    self.sv = sv\n",
    "\n",
    "\n",
    "  def predict(self, X_tst):\n",
    "    wx = np.dot(self.w, X_tst.T)\n",
    "    yhat = wx + self.b\n",
    "    yhat = np.sign(yhat)\n",
    "    return yhat"
   ]
  },
  {
   "cell_type": "code",
   "execution_count": null,
   "metadata": {
    "colab": {
     "base_uri": "https://localhost:8080/",
     "height": 282
    },
    "id": "cuy9-wYtiI6y",
    "outputId": "c583e5f2-0b29-4b1c-f0b6-096f5f5eb334"
   },
   "outputs": [],
   "source": [
    "X1 = np.random.random([100,2])*np.array([1,1])\n",
    "y1 = np.ones(100).reshape(-1,1)\n",
    "\n",
    "X2 = np.random.random([100,2])*np.array([2,2]) + 0.5\n",
    "y2 = -np.ones(100).reshape(-1,1)\n",
    "\n",
    "X = np.vstack((X1,X2))\n",
    "y  = np.vstack((y1,y2))\n",
    "\n",
    "plt.scatter(X[:, 0],\n",
    "            X[:, 1],\n",
    "            c=y,\n",
    "            edgecolors=\"black\")"
   ]
  },
  {
   "cell_type": "code",
   "execution_count": null,
   "metadata": {
    "colab": {
     "base_uri": "https://localhost:8080/",
     "height": 685
    },
    "id": "OkO14C8zvZpz",
    "outputId": "b11653d0-fa16-4468-fb61-bc029534a521"
   },
   "outputs": [],
   "source": [
    "def pipeline_SVM(model):\n",
    "  classifier = model\n",
    "  alphas = classifier.fit(X,y)\n",
    "  ypred = classifier.predict(X)\n",
    "\n",
    "  fig, axis = plt.subplots(1,2, figsize=(12,6))\n",
    "\n",
    "  axis[0].scatter(X[:, 0],\n",
    "                  X[:, 1],\n",
    "                  c=y,\n",
    "                  edgecolors=\"black\")\n",
    "  axis[0].set_title('valores reais')\n",
    "\n",
    "  axis[1].scatter(X[:, 0],\n",
    "                  X[:, 1],\n",
    "                  c=ypred,\n",
    "                  edgecolors=\"black\")\n",
    "  axis[1].set_title('predições | acurácia:{}'.format(np.mean(y.flatten()==ypred.flatten())))\n",
    "\n",
    "C=10\n",
    "pipeline_SVM(SVM(C=C))"
   ]
  },
  {
   "cell_type": "code",
   "execution_count": null,
   "metadata": {
    "colab": {
     "base_uri": "https://localhost:8080/",
     "height": 1000
    },
    "id": "pdZL3ZR3Hu_q",
    "outputId": "242825b6-4988-45ef-b45f-d650a6dd56ad"
   },
   "outputs": [],
   "source": [
    "def test_SVMs(list_C):\n",
    "  for C in list_C:\n",
    "    classifier = SVM(C=C)\n",
    "    alphas = classifier.fit(X,y)\n",
    "    ypred = classifier.predict(X)\n",
    "    plot_margin(X, classifier, title='SVM | C:{}'.format(C))\n",
    "\n",
    "test_SVMs([0.001,0.01, 0.1, 1,10,100,1000,1e4,1e5])"
   ]
  },
  {
   "cell_type": "code",
   "execution_count": null,
   "metadata": {
    "id": "PcrUfPzSZv21"
   },
   "outputs": [],
   "source": [
    "from sklearn.model_selection import train_test_split\n",
    "\n",
    "X_train, X_test, y_train, y_test = train_test_split(X, y, test_size=0.2, random_state=42)"
   ]
  },
  {
   "cell_type": "code",
   "execution_count": null,
   "metadata": {
    "colab": {
     "base_uri": "https://localhost:8080/",
     "height": 759
    },
    "id": "B9C0qxFbZ1Ep",
    "outputId": "fd4a4974-ff75-4646-d13d-0b459dedd751"
   },
   "outputs": [],
   "source": [
    "def train_svm_and_plot(C):\n",
    "\n",
    "  classifier = SVM(C=C)\n",
    "  alphas = classifier.fit(X_train,y_train)\n",
    "\n",
    "  ypred_train = classifier.predict(X_train)\n",
    "  ypred_test = classifier.predict(X_test)\n",
    "\n",
    "  fig, axis = plt.subplots(2,2, figsize=(12,8))\n",
    "\n",
    "  axis[0,0].scatter(X_train[:, 0],\n",
    "              X_train[:, 1],\n",
    "              c=y_train.astype(int),\n",
    "              edgecolors=\"black\")\n",
    "  axis[0,0].set_title('train - valores reais')\n",
    "\n",
    "  axis[0,1].scatter(X_train[:, 0],\n",
    "              X_train[:, 1],\n",
    "              c=ypred_train.astype(int),\n",
    "              edgecolors=\"black\")\n",
    "\n",
    "  axis[0,1].set_title('train - predições - acc:{}'.format(np.mean(y_train.flatten()==ypred_train.flatten())))\n",
    "\n",
    "\n",
    "  axis[1,0].scatter(X_test[:, 0],\n",
    "              X_test[:, 1],\n",
    "              c=y_test.astype(int),\n",
    "              edgecolors=\"black\")\n",
    "\n",
    "  axis[1,0].set_title('test -gt')\n",
    "\n",
    "\n",
    "  axis[1,1].scatter(X_test[:, 0],\n",
    "              X_test[:, 1],\n",
    "              c=ypred_test.astype(int),\n",
    "              edgecolors=\"black\")\n",
    "  axis[1,1].set_title('test - predições - acc:{}'.format(np.mean(y_test.flatten()==ypred_test.flatten())))\n",
    "\n",
    "\n",
    "train_svm_and_plot(C=10)"
   ]
  },
  {
   "cell_type": "markdown",
   "metadata": {
    "id": "JILz9pAOMKp3"
   },
   "source": [
    "# SVM soft margin e kernel + aplicação em distribuições aleatórias \n",
    "\n",
    "---\n",
    "\n"
   ]
  },
  {
   "cell_type": "code",
   "execution_count": null,
   "metadata": {
    "id": "3h9mUt17MT7A"
   },
   "outputs": [],
   "source": [
    "class SVM_kernel():\n",
    "\n",
    "  def __init__(self, C, kernel_type='poly', kernel_params=None, solver =\"quadprog\", tol=1e-5, verbose=False ):\n",
    "    assert C>0, 'C precisa ser uma constante positiva'\n",
    "    self.C=float(C)\n",
    "    self.kernel_type = kernel_type\n",
    "    self.kernel_params = kernel_params\n",
    "    self.solver = solver\n",
    "    self.tol = tol\n",
    "    self.verbose=verbose\n",
    "    cvxopt.solvers.options['show_progress'] = verbose\n",
    "\n",
    "  def fit(self,X,y):\n",
    "\n",
    "    # Check https://courses.csail.mit.edu/6.867/wiki/images/a/a7/Qp-cvxopt.pdf\n",
    "\n",
    "    class_labels = np.unique(y)\n",
    "    assert len(class_labels)==2, \"y precisa ser binário\"\n",
    "    # assert (isinstance(X,  (np.ndarray, np.generic))) & (isinstance(y, (np.ndarray, np.generic))), \"X e y devem ser do tipo pandas numpy arrays\"\n",
    "\n",
    "    X = np.array(X)\n",
    "    y = np.array(y)\n",
    "    self.m = X.shape[0]\n",
    "\n",
    "    self.X=X\n",
    "    self.y=y\n",
    "    \n",
    "    # Equação principal\n",
    "    P = self.calculate_kernel()\n",
    "\n",
    "    q = -np.ones((self.m,1)).reshape(-1,1)\n",
    "\n",
    "    # Inegualidades\n",
    "    G_lb = -np.eye(self.m)\n",
    "    h_lb = np.zeros(self.m).reshape(-1,1)\n",
    "\n",
    "    G_ub = np.eye(self.m)\n",
    "    h_ub = self.C*np.ones(self.m).reshape(-1,1)\n",
    "\n",
    "    G = np.vstack((G_lb,G_ub))\n",
    "    h = np.vstack((h_lb,h_ub))\n",
    "\n",
    "    # Igualdade\n",
    "    A = y.reshape(1,-1).astype(float)\n",
    "    b = 0.0\n",
    "\n",
    "    P       = cvxopt.matrix(P)\n",
    "    q       = cvxopt.matrix(q)\n",
    "    G       = cvxopt.matrix(G)\n",
    "    h       = cvxopt.matrix(h)\n",
    "    A       = cvxopt.matrix(A)\n",
    "    b       = cvxopt.matrix(b)\n",
    "\n",
    "    solved  = cvxopt.solvers.qp(P, q, G, h, A, b, show_progress=False) ;\n",
    "    alpha = solved['x']\n",
    "\n",
    "    alpha = np.array(alpha)\n",
    "    sv = (alpha>1e-5).flatten()\n",
    "    self.alpha = alpha\n",
    "    self.sv = sv\n",
    "\n",
    "    # w = np.dot((alpha[sv]*y[sv]).reshape(1,-1), X[sv])[0] # w precisar ter dimensao 1 x ne\n",
    "    # wx = np.dot(X[sv], w)\n",
    "    # b = np.mean(y[sv] - wx)\n",
    "    # self.w = w\n",
    "    # self.b = b\n",
    "\n",
    "\n",
    "\n",
    "  def check_param(self, param):\n",
    "    assert param in self.kernel_params.keys(), 'se o kernel é {} é necessário ter declarado o parametro {}'.format(self.kernel_type,param)\n",
    "\n",
    "  def calculate_kernel(self):\n",
    "\n",
    "    assert isinstance(self.kernel_params, dict), 'kernel_params precisa ser um dicionario'\n",
    "    assert self.kernel_type in ['poly', 'rbf'], 'kernel_type precisa ser poly ou rbf'\n",
    "\n",
    "    K = np.zeros((self.m, self.m))\n",
    "    H = np.zeros((self.m, self.m))\n",
    "\n",
    "    if self.kernel_type=='poly':\n",
    "      self.check_param('d')\n",
    "      d = self.kernel_params['d']\n",
    "\n",
    "      for i in range(0, self.m):\n",
    "        for j in range(0, self.m):\n",
    "          K[i,j] = (self.X[i,:]@self.X[j,:]+1)**d\n",
    "          H[i,j] = K[i,j]*self.y[i,0]*self.y[j,0]\n",
    "\n",
    "      return H\n",
    "\n",
    "    elif self.kernel_type=='rbf':\n",
    "      self.check_param('sigma')\n",
    "      sigma = self.kernel_params['sigma']\n",
    "\n",
    "      for i in range(0, self.m):\n",
    "        for j in range(0, self.m):\n",
    "          K[i,j] = np.exp(-np.linalg.norm(self.X[i,:] - self.X[j,:])**2/(2*sigma**2))\n",
    "          H[i,j] = K[i,j]*self.y[i,0]*self.y[j,0]\n",
    "          \n",
    "      return H\n",
    "      \n",
    "\n",
    "  def predict(self, X_tst):\n",
    "\n",
    "    X_tst = np.array(X_tst)\n",
    "    m_test = X_tst.shape[0]\n",
    "\n",
    "    alphasv = self.alpha[self.sv]\n",
    "    Xsv = self.X[self.sv,:]\n",
    "    ysv = self.y[self.sv,:]\n",
    "    m_sv = Xsv.shape[0]\n",
    "\n",
    "    K = np.zeros((m_sv, m_test))\n",
    "\n",
    "    for i in range(0, m_sv):\n",
    "      for j in range(0, m_test):\n",
    "        if self.kernel_type=='poly':\n",
    "          K[i,j] = (Xsv[i,:] @ X_tst[j,:]+1)**self.kernel_params['d']\n",
    "\n",
    "        elif self.kernel_type=='rbf':\n",
    "          # print(Xsv[i,:])\n",
    "          # print(X_tst[j,:])\n",
    "          K[i,j] = np.exp(-np.linalg.norm(Xsv[i,:].flatten() - X_tst[j,:].flatten())**2/(2*self.kernel_params['sigma']**2))\n",
    "          \n",
    "\n",
    "\n",
    "    yhat = np.sign((alphasv * ysv).T@K)\n",
    "\n",
    "    return yhat"
   ]
  },
  {
   "cell_type": "code",
   "execution_count": null,
   "metadata": {
    "colab": {
     "base_uri": "https://localhost:8080/",
     "height": 685
    },
    "id": "DAPbZxRsPkXM",
    "outputId": "4500ff74-0f4c-4891-928f-d921e5625ffa"
   },
   "outputs": [],
   "source": [
    "C=100\n",
    "\n",
    "model = SVM_kernel(C=C, kernel_type='poly', kernel_params={'d':4}, verbose=True)\n",
    "\n",
    "pipeline_SVM(model)"
   ]
  },
  {
   "cell_type": "code",
   "execution_count": null,
   "metadata": {
    "colab": {
     "base_uri": "https://localhost:8080/",
     "height": 1000
    },
    "id": "ceDO0rQ6fGon",
    "outputId": "aaa8c0bc-0e82-4896-96e1-fc2072f3715e"
   },
   "outputs": [],
   "source": [
    "for sigma in [.001,.01, .1, 1, 10, 100]:\n",
    "  for C in [1,10,100,1000,10000,100000]:\n",
    "    print('sigma:{} C:{}'.format(sigma,C))\n",
    "    model = SVM_kernel(C=C, kernel_type='rbf', kernel_params={'sigma':sigma})\n",
    "    pipeline_SVM(model)\n",
    "    plt.show()"
   ]
  },
  {
   "cell_type": "markdown",
   "metadata": {
    "id": "WhnTlyu_idso"
   },
   "source": [
    "# SVM soft margin e kernel + aplicação em cancer dataset\n"
   ]
  },
  {
   "cell_type": "code",
   "execution_count": null,
   "metadata": {
    "id": "W84_i88FidA6"
   },
   "outputs": [],
   "source": [
    "from sklearn.datasets import load_breast_cancer\n",
    "\n",
    "cancer = load_breast_cancer()\n",
    "X = pd.DataFrame(cancer.data, columns= cancer.feature_names)\n",
    "y = pd.DataFrame(cancer.target, columns= ['target'])\n",
    "y['target'] = y['target'].apply(lambda x:2*x-1)\n",
    "m = X.shape[0]\n",
    "\n",
    "X_train, X_test, y_train, y_test = train_test_split(X, y, test_size=0.2, random_state=42)\n",
    "\n",
    "X_test = (X_test - X_train.min(axis=0))/(X_train.max(axis=0) - X_train.min(axis=0))\n",
    "X_train = (X_train - X_train.min(axis=0))/(X_train.max(axis=0) - X_train.min(axis=0))"
   ]
  },
  {
   "cell_type": "code",
   "execution_count": null,
   "metadata": {
    "colab": {
     "base_uri": "https://localhost:8080/"
    },
    "id": "EA3GL9ZE1U2e",
    "outputId": "3d530fee-7804-4544-ce63-cc97c9c68078"
   },
   "outputs": [],
   "source": [
    "print('X:',X.shape)\n",
    "print('X_train:', X_train.shape)\n",
    "print('y_train:', y_train.shape)\n",
    "print('X_test:', X_test.shape)\n",
    "print('y_test:', y_test.shape)"
   ]
  },
  {
   "cell_type": "code",
   "execution_count": null,
   "metadata": {
    "id": "9T7BBWSH8hOI"
   },
   "outputs": [],
   "source": [
    "# from sklearn.svm import LinearSVC\n",
    "\n",
    "# classifier = LinearSVC(random_state=0, tol=1e-5)\n",
    "# classifier.fit(X_train,y_train)\n",
    "\n",
    "# ypred_train = classifier.predict(X_train)\n",
    "# ypred_test = classifier.predict(X_test)\n",
    "# print('acuracia treino:{} acuracia teste:{}'.format(np.mean(ypred_train.flatten()==y_train.values.flatten()), np.mean(ypred_test.flatten()==y_test.values.flatten())))"
   ]
  },
  {
   "cell_type": "code",
   "execution_count": null,
   "metadata": {
    "id": "4ze-fHw19DEr"
   },
   "outputs": [],
   "source": [
    "# from sklearn.svm import SVC\n",
    "\n",
    "# classifier = SVC(gamma='auto')\n",
    "# classifier.fit(X_train,y_train)\n",
    "\n",
    "# ypred_train = classifier.predict(X_train)\n",
    "# ypred_test = classifier.predict(X_test)\n",
    "\n",
    "# print('acuracia treino:{} acuracia teste:{}'.format(np.mean(ypred_train.flatten()==y_train.values.flatten()), np.mean(ypred_test.flatten()==y_test.values.flatten())))"
   ]
  },
  {
   "cell_type": "code",
   "execution_count": null,
   "metadata": {
    "colab": {
     "base_uri": "https://localhost:8080/"
    },
    "id": "B1jFjb4X7GWE",
    "outputId": "70ea5313-d4ed-442e-c76d-f62388e0caeb"
   },
   "outputs": [],
   "source": [
    "gridsearch = {}\n",
    "it = 0\n",
    "\n",
    "for C in [1,10,100,1000,10000,100000]:\n",
    "  classifier = SVM(C=C, verbose=False)\n",
    "  classifier.fit(X_train,y_train)\n",
    "\n",
    "  ypred_train = classifier.predict(X_train)\n",
    "  ypred_test = classifier.predict(X_test)\n",
    "\n",
    "  gridsearch[it] = (C, np.mean(ypred_train.flatten()==y_train.values.flatten()),np.mean(ypred_test.flatten()==y_test.values.flatten()))\n",
    "  \n",
    "  print(gridsearch[it])\n",
    "  \n",
    "  it+=1"
   ]
  },
  {
   "cell_type": "code",
   "execution_count": null,
   "metadata": {
    "colab": {
     "base_uri": "https://localhost:8080/"
    },
    "id": "5UoJLObEo0pd",
    "outputId": "b2b9ee6e-88cf-4fcf-8e83-4dff55b318e9"
   },
   "outputs": [],
   "source": [
    "gridsearch = {}\n",
    "it = 0\n",
    "\n",
    "for sigma in [.001,.01, .1, 1, 10, 100]:\n",
    "  for C in [1,100,1000,10000,100000]:\n",
    "    classifier = SVM_kernel(C=C, kernel_type='rbf', kernel_params={'sigma':sigma}, verbose=False)\n",
    "    classifier.fit(X_train,y_train)\n",
    "\n",
    "    ypred_train = classifier.predict(X_train)\n",
    "    ypred_test = classifier.predict(X_test)\n",
    "\n",
    "    gridsearch[it] = (sigma, C, np.mean(ypred_train.flatten()==y_train.values.flatten()),np.mean(ypred_test.flatten()==y_test.values.flatten()))\n",
    "  \n",
    "    print(gridsearch[it])\n",
    "    \n",
    "    it+=1\n",
    "\n"
   ]
  },
  {
   "cell_type": "code",
   "execution_count": null,
   "metadata": {
    "colab": {
     "base_uri": "https://localhost:8080/",
     "height": 990
    },
    "id": "EQiUZiKt-9wT",
    "outputId": "b2365487-8267-4cde-b40f-4a3632acfa52"
   },
   "outputs": [],
   "source": [
    "results_df = pd.DataFrame(gridsearch).T\n",
    "results_df.columns = ['sigma', 'C', 'acuracia_tr','acuracia_tst']\n",
    "results_df"
   ]
  },
  {
   "cell_type": "code",
   "execution_count": null,
   "metadata": {
    "id": "QI2jkpkRCuZW"
   },
   "outputs": [],
   "source": []
  }
 ],
 "metadata": {
  "colab": {
   "provenance": []
  },
  "kernelspec": {
   "display_name": "Python 3",
   "language": "python",
   "name": "python3"
  },
  "language_info": {
   "codemirror_mode": {
    "name": "ipython",
    "version": 3
   },
   "file_extension": ".py",
   "mimetype": "text/x-python",
   "name": "python",
   "nbconvert_exporter": "python",
   "pygments_lexer": "ipython3",
   "version": "3.7.10"
  },
  "varInspector": {
   "cols": {
    "lenName": 16,
    "lenType": 16,
    "lenVar": 40
   },
   "kernels_config": {
    "python": {
     "delete_cmd_postfix": "",
     "delete_cmd_prefix": "del ",
     "library": "var_list.py",
     "varRefreshCmd": "print(var_dic_list())"
    },
    "r": {
     "delete_cmd_postfix": ") ",
     "delete_cmd_prefix": "rm(",
     "library": "var_list.r",
     "varRefreshCmd": "cat(var_dic_list()) "
    }
   },
   "types_to_exclude": [
    "module",
    "function",
    "builtin_function_or_method",
    "instance",
    "_Feature"
   ],
   "window_display": false
  }
 },
 "nbformat": 4,
 "nbformat_minor": 1
}
